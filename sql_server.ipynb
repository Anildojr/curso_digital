{
 "cells": [
  {
   "cell_type": "code",
   "execution_count": null,
   "metadata": {},
   "outputs": [],
   "source": [
    "import pyodbc\n",
    "\n",
    "# Parâmetros de conexão\n",
    "server =  'sql.bsite.net'\n",
    "database = 'danielteofilo_'\n",
    "username = 'danielteofilo_'\n",
    "password = 'FreeSite100'\n",
    "driver = '{ODBC Driver 17 for SQL Server}'  # Isso pode variar dependendo da versão do seu driver\n",
    "\n",
    "# String de conexão\n",
    "conn_str = f'DRIVER={driver};SERVER={server};DATABASE={database};UID={username};PWD={password}'\n",
    "\n",
    "# Estabelece a conexão\n",
    "conn = pyodbc.connect(conn_str)\n",
    "\n",
    "# Exemplo: Executar uma consulta\n",
    "cursor = conn.cursor()\n",
    "cursor.execute('SELECT @@VERSION;')\n",
    "\n",
    "for row in cursor:\n",
    "    print(row)\n",
    "\n",
    "# Fecha a conexão\n",
    "conn.close()"
   ]
  }
 ],
 "metadata": {
  "kernelspec": {
   "display_name": "digital",
   "language": "python",
   "name": "python3"
  },
  "language_info": {
   "codemirror_mode": {
    "name": "ipython",
    "version": 3
   },
   "file_extension": ".py",
   "mimetype": "text/x-python",
   "name": "python",
   "nbconvert_exporter": "python",
   "pygments_lexer": "ipython3",
   "version": "3.12.3"
  }
 },
 "nbformat": 4,
 "nbformat_minor": 2
}
