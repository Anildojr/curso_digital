{
 "cells": [
  {
   "cell_type": "code",
   "execution_count": 1,
   "metadata": {},
   "outputs": [
    {
     "name": "stdout",
     "output_type": "stream",
     "text": [
      "Requirement already satisfied: psycopg2-binary in ./digital/lib/python3.12/site-packages (2.9.10)\n"
     ]
    }
   ],
   "source": [
    "!pip install psycopg2-binary"
   ]
  },
  {
   "cell_type": "code",
   "execution_count": 1,
   "metadata": {},
   "outputs": [
    {
     "name": "stdout",
     "output_type": "stream",
     "text": [
      "Conexão Bem-sucedida!\n",
      "Versão do PostgrSQL: ('PostgreSQL 14.13 on x86_64-pc-linux-gnu, compiled by gcc (Debian 8.3.0-6) 8.3.0, 64-bit',)\n"
     ]
    }
   ],
   "source": [
    "import psycopg2\n",
    "\n",
    "# Configurações de conexão\n",
    "host = \"postgresql-datadt.alwaysdata.net\"\n",
    "database = \"datadt_curso_python\"\n",
    "user = \"datadt_digital\"\n",
    "password = \"Digital2024\"\n",
    "port = \"5432\"\n",
    "\n",
    "try:\n",
    "    # Conectando ao banco d dados\n",
    "    conn = psycopg2.connect(\n",
    "        host=host,\n",
    "        database=database,\n",
    "        user=user,\n",
    "        password=password,\n",
    "        port=port\n",
    "    )\n",
    "    \n",
    "    # Criação de um cursor\n",
    "    crs = conn.cursor()\n",
    "    \n",
    "    # Teste de Conexão: executando um comando simples\n",
    "    crs.execute(\"SELECT version();\")\n",
    "    \n",
    "    # Exibindo a versão do PostgreSQL\n",
    "    db_version =  crs.fetchone()\n",
    "    print(\"Conexão Bem-sucedida!\")\n",
    "    print(\"Versão do PostgrSQL:\", db_version)\n",
    "    \n",
    "except Exception as e:\n",
    "    print(\"Erro ao conectar ao banco de daors\", e)\n",
    "    \n",
    "finally:\n",
    "    #Fechando a conexão e o cursor\n",
    "    if 'crs' in locals():\n",
    "        crs.close()\n",
    "    if 'conn' in locals():\n",
    "        conn.close()\n",
    "    \n"
   ]
  }
 ],
 "metadata": {
  "kernelspec": {
   "display_name": "digital",
   "language": "python",
   "name": "python3"
  },
  "language_info": {
   "codemirror_mode": {
    "name": "ipython",
    "version": 3
   },
   "file_extension": ".py",
   "mimetype": "text/x-python",
   "name": "python",
   "nbconvert_exporter": "python",
   "pygments_lexer": "ipython3",
   "version": "3.12.3"
  }
 },
 "nbformat": 4,
 "nbformat_minor": 2
}
