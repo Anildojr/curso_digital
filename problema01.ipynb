{
 "cells": [
  {
   "cell_type": "code",
   "execution_count": 1,
   "metadata": {},
   "outputs": [],
   "source": [
    "import psycopg2\n",
    "import pyodbc\n",
    "import pandas as pd\n",
    "import matplotlib.pyplot as plt\n",
    "import numpy as np"
   ]
  },
  {
   "cell_type": "code",
   "execution_count": null,
   "metadata": {},
   "outputs": [],
   "source": [
    "#Conectando ao Sql Server\n",
    "\n",
    "# Parâmetros de conexão\n",
    "server = 'sql.bsite.net\\MSSQL2016'\n",
    "database = 'danielteofilo_'\n",
    "username = 'danielteofilo_'\n",
    "password = 'FreeSite100'\n",
    "driver = '{ODBC Driver 17 for SQL Server}'\n",
    "\n",
    "try:\n",
    "    # String de conexão\n",
    "    conn_str = f'DRIVER={driver};SERVER={server};DATABASE={database};UID={username};PWD={password}'\n",
    "\n",
    "    # Estabelece a conexão\n",
    "    conn = pyodbc.connect(conn_str)\n",
    "\n",
    "    df_sql_server = pd.read_sql('SELECT * FROM vendas', conn)\n",
    "    \n",
    "except Exception as e:\n",
    "    print(f'Deu ruim: {e}')\n",
    "finally:\n",
    "    # Fecha a conexão\n",
    "    conn.close()"
   ]
  },
  {
   "cell_type": "code",
   "execution_count": 7,
   "metadata": {},
   "outputs": [
    {
     "name": "stdout",
     "output_type": "stream",
     "text": [
      "Erro ao conectar: ('HYT00', '[HYT00] [Microsoft][ODBC Driver 17 for SQL Server]Login timeout expired (0) (SQLDriverConnect)')\n"
     ]
    }
   ],
   "source": [
    "import pyodbc\n",
    "import pandas as pd\n",
    "\n",
    "# Conectando ao SQL Server\n",
    "\n",
    "# Parâmetros de conexão\n",
    "server = 'sql.bsite.net,MSSQL2016'  # Substitui \\ por , para compatibilidade\n",
    "database = 'danielteofilo_'\n",
    "username = 'danielteofilo_'\n",
    "password = 'FreeSite100'\n",
    "driver = '{ODBC Driver 17 for SQL Server}'\n",
    "\n",
    "try:\n",
    "    # String de conexão\n",
    "    conn_str = f'DRIVER={driver};SERVER={server};DATABASE={database};UID={username};PWD={password};Connection Timeout=60'\n",
    "\n",
    "    # Estabelece a conexão\n",
    "    conn = pyodbc.connect(conn_str)\n",
    "\n",
    "    # Executa a consulta e carrega os dados em um DataFrame\n",
    "    df_sql_server = pd.read_sql('SELECT * FROM vendas', conn)\n",
    "    print(df_sql_server)  # Exibe o DataFrame (opcional)\n",
    "\n",
    "except Exception as e:\n",
    "    print(f'Erro ao conectar: {e}')\n",
    "\n",
    "finally:\n",
    "    # Fecha a conexão, se foi estabelecida\n",
    "    if 'conn' in locals() and conn:\n",
    "        conn.close()\n",
    "        print(\"Conexão fechada com sucesso.\")\n"
   ]
  },
  {
   "cell_type": "code",
   "execution_count": null,
   "metadata": {},
   "outputs": [],
   "source": [
    "df_sql_server.head()"
   ]
  },
  {
   "cell_type": "code",
   "execution_count": null,
   "metadata": {},
   "outputs": [],
   "source": [
    "df_sql_server.info()"
   ]
  },
  {
   "cell_type": "code",
   "execution_count": null,
   "metadata": {},
   "outputs": [],
   "source": [
    "df_sql_server['data_venda'] = pd.to_datetime(df_sql_server['data_venda'])"
   ]
  },
  {
   "cell_type": "code",
   "execution_count": null,
   "metadata": {},
   "outputs": [],
   "source": [
    "df_sql_server['data_venda'].dt.year"
   ]
  },
  {
   "cell_type": "code",
   "execution_count": null,
   "metadata": {},
   "outputs": [],
   "source": [
    "df_sql_server['ano'] = df_sql_server['data_venda'].dt.year"
   ]
  },
  {
   "cell_type": "code",
   "execution_count": null,
   "metadata": {},
   "outputs": [],
   "source": [
    "df_sql_server['ano'].value_counts()"
   ]
  },
  {
   "cell_type": "code",
   "execution_count": null,
   "metadata": {},
   "outputs": [],
   "source": [
    "df_group_sql = df_sql_server.groupby('ano')['valor_venda'].sum().reset_index()"
   ]
  },
  {
   "cell_type": "code",
   "execution_count": null,
   "metadata": {},
   "outputs": [],
   "source": [
    "df_group_sql"
   ]
  },
  {
   "cell_type": "code",
   "execution_count": null,
   "metadata": {},
   "outputs": [],
   "source": [
    "df_group_sql['empresa'] = 'Empresa 01'"
   ]
  },
  {
   "cell_type": "code",
   "execution_count": null,
   "metadata": {},
   "outputs": [],
   "source": [
    "# Configurações de conexão\n",
    "host = \"postgresql-datadt.alwaysdata.net\"\n",
    "database = \"datadt_curso_python\"\n",
    "user = \"datadt_digital\"\n",
    "password = \"Digital2024\"\n",
    "port = \"5432\"\n",
    "\n",
    "try:\n",
    "    # Conectando ao banco de dados\n",
    "    conn = psycopg2.connect(\n",
    "        host=host,\n",
    "        database=database,\n",
    "        user=user,\n",
    "        password=password,\n",
    "        port=port\n",
    "    )\n",
    "\n",
    "    df_postgres = pd.read_sql(\"\"\"\n",
    "            select * from vendas.nota_fiscal nf\n",
    "                     \"\"\", conn)\n",
    "    \n",
    "except Exception as e:\n",
    "    print(\"Erro ao conectar ao banco de dados:\", e)\n",
    "    \n",
    "finally:\n",
    "    if 'conn' in locals():\n",
    "        conn.close()\n"
   ]
  },
  {
   "cell_type": "code",
   "execution_count": null,
   "metadata": {},
   "outputs": [],
   "source": [
    "df_postgres.head()"
   ]
  },
  {
   "cell_type": "code",
   "execution_count": null,
   "metadata": {},
   "outputs": [],
   "source": [
    "df_postgres.info()"
   ]
  },
  {
   "cell_type": "code",
   "execution_count": null,
   "metadata": {},
   "outputs": [],
   "source": [
    "df_postgres['ano'] = df_postgres['data_venda'].dt.year"
   ]
  },
  {
   "cell_type": "code",
   "execution_count": null,
   "metadata": {},
   "outputs": [],
   "source": [
    "df_group_postgres = df_postgres.groupby('ano')['valor'].sum().reset_index()"
   ]
  },
  {
   "cell_type": "code",
   "execution_count": null,
   "metadata": {},
   "outputs": [],
   "source": [
    "df_group_postgres"
   ]
  },
  {
   "cell_type": "code",
   "execution_count": null,
   "metadata": {},
   "outputs": [],
   "source": [
    "df_group_postgres['empresa'] = 'Empresa 02'"
   ]
  },
  {
   "cell_type": "code",
   "execution_count": null,
   "metadata": {},
   "outputs": [],
   "source": [
    "df_group_postgres.rename(columns={'valor': 'valor_venda'}, inplace=True)"
   ]
  },
  {
   "cell_type": "code",
   "execution_count": null,
   "metadata": {},
   "outputs": [],
   "source": [
    "df_resultado_geral = pd.concat([df_group_sql, df_group_postgres])"
   ]
  },
  {
   "cell_type": "code",
   "execution_count": null,
   "metadata": {},
   "outputs": [],
   "source": [
    "df_resultado_geral"
   ]
  },
  {
   "cell_type": "code",
   "execution_count": null,
   "metadata": {},
   "outputs": [],
   "source": [
    "df_resultado_geral.info()"
   ]
  },
  {
   "cell_type": "code",
   "execution_count": null,
   "metadata": {},
   "outputs": [],
   "source": [
    "# Agrupando os dados por ano e empresa\n",
    "df_grouped = df_resultado_geral.groupby(['ano', 'empresa'])['valor_venda'].sum().unstack()\n",
    "\n",
    "# Definindo a posição das barras\n",
    "bar_width = 0.35\n",
    "x = np.arange(len(df_grouped.index))\n",
    "\n",
    "# Criando o gráfico de barras\n",
    "fig, ax = plt.subplots(figsize=(10, 6))\n",
    "bar1 = ax.bar(x - bar_width/2, df_grouped['Empresa 01'], bar_width, label='Empresa 01')\n",
    "bar2 = ax.bar(x + bar_width/2, df_grouped['Empresa 02'], bar_width, label='Empresa 02')\n",
    "\n",
    "# Adicionando rótulos e título\n",
    "ax.set_xlabel('Ano')\n",
    "ax.set_ylabel('Valor de Venda')\n",
    "ax.set_title('Vendas por Ano e Empresa')\n",
    "ax.set_xticks(x)\n",
    "ax.set_xticklabels(df_grouped.index)\n",
    "ax.legend()\n",
    "\n",
    "# Mostrando o gráfico\n",
    "plt.tight_layout()\n",
    "plt.show()\n"
   ]
  },
  {
   "cell_type": "code",
   "execution_count": null,
   "metadata": {},
   "outputs": [],
   "source": [
    "# Agrupando os dados por ano e empresa\n",
    "df_grouped = df_resultado_geral.groupby(['ano', 'empresa'])['valor_venda'].sum().unstack()\n",
    "\n",
    "# Definindo a posição das barras\n",
    "bar_width = 0.35\n",
    "x = np.arange(len(df_grouped.index))\n",
    "\n",
    "# Criando o gráfico de barras\n",
    "fig, ax = plt.subplots(figsize=(10, 6))\n",
    "bar1 = ax.bar(x - bar_width/2, df_grouped['Empresa 01'], bar_width, label='Empresa 01')\n",
    "bar2 = ax.bar(x + bar_width/2, df_grouped['Empresa 02'], bar_width, label='Empresa 02')\n",
    "\n",
    "# Adicionando rótulos e título\n",
    "ax.set_xlabel('Ano')\n",
    "ax.set_ylabel('Valor de Venda (Escala Logarítmica)')\n",
    "ax.set_title('Vendas por Ano e Empresa')\n",
    "ax.set_xticks(x)\n",
    "ax.set_xticklabels(df_grouped.index)\n",
    "ax.legend()\n",
    "\n",
    "# Definindo o eixo y em escala logarítmica\n",
    "ax.set_yscale('log')\n",
    "\n",
    "# Mostrando o gráfico\n",
    "plt.tight_layout()\n",
    "plt.show()\n"
   ]
  },
  {
   "cell_type": "code",
   "execution_count": null,
   "metadata": {},
   "outputs": [],
   "source": [
    "# Agrupando os dados por ano e empresa\n",
    "df_grouped = df_resultado_geral.groupby(['ano', 'empresa'])['valor_venda'].sum().unstack()\n",
    "\n",
    "# Definindo a posição das barras\n",
    "bar_width = 0.35\n",
    "x = np.arange(len(df_grouped.index))\n",
    "\n",
    "# Criando o gráfico de barras\n",
    "fig, ax = plt.subplots(figsize=(10, 6))\n",
    "bar1 = ax.bar(x - bar_width/2, df_grouped['Empresa 01'], bar_width, label='Empresa 01')\n",
    "bar2 = ax.bar(x + bar_width/2, df_grouped['Empresa 02'], bar_width, label='Empresa 02')\n",
    "\n",
    "# Adicionando rótulos e título\n",
    "ax.set_xlabel('Ano')\n",
    "ax.set_ylabel('Valor de Venda (Escala Logarítmica)')\n",
    "ax.set_title('Vendas por Ano e Empresa')\n",
    "ax.set_xticks(x)\n",
    "ax.set_xticklabels(df_grouped.index)\n",
    "ax.legend()\n",
    "\n",
    "# Definindo o eixo y em escala logarítmica\n",
    "ax.set_yscale('log')\n",
    "\n",
    "# Adicionando os valores no topo das barras\n",
    "for i in x:\n",
    "    ax.text(i - bar_width/2, df_grouped['Empresa 01'].iloc[i], \n",
    "            f'{df_grouped[\"Empresa 01\"].iloc[i]:,.0f}', \n",
    "            ha='center', va='bottom')\n",
    "    \n",
    "    ax.text(i + bar_width/2, df_grouped['Empresa 02'].iloc[i], \n",
    "            f'{df_grouped[\"Empresa 02\"].iloc[i]:,.0f}', \n",
    "            ha='center', va='bottom')\n",
    "\n",
    "# Mostrando o gráfico\n",
    "plt.tight_layout()\n",
    "plt.show()\n"
   ]
  },
  {
   "cell_type": "code",
   "execution_count": null,
   "metadata": {},
   "outputs": [],
   "source": [
    "sudo locale-gen pt_BR.UTF-8\n",
    "sudo update-locale"
   ]
  },
  {
   "cell_type": "code",
   "execution_count": null,
   "metadata": {},
   "outputs": [],
   "source": [
    "# Exemplo de dados\n",
    "data = {\n",
    "    'ano': [2012, 2013, 2014, 2015, 2015, 2016, 2017],\n",
    "    'valor_venda': [37504.0, 93418.0, 63322.0, 166835.0, 28167840.0, 29348852.0, 31045856.0],\n",
    "    'empresa': ['Empresa 01', 'Empresa 01', 'Empresa 01', 'Empresa 01', 'Empresa 02', 'Empresa 02', 'Empresa 02']\n",
    "}\n",
    "df_resultado_geral = pd.DataFrame(data)\n",
    "\n",
    "# Agrupando os dados por ano e empresa\n",
    "df_grouped = df_resultado_geral.groupby(['ano', 'empresa'])['valor_venda'].sum().unstack()\n",
    "\n",
    "# Definindo a posição das barras\n",
    "bar_width = 0.35\n",
    "x = np.arange(len(df_grouped.index))\n",
    "\n",
    "# Função para formatar números em reais\n",
    "def formatar_reais(valor):\n",
    "    return f'R$ {valor:,.0f}'.replace(',', 'X').replace('.', ',').replace('X', '.')\n",
    "\n",
    "# Criando o gráfico de barras\n",
    "fig, ax = plt.subplots(figsize=(10, 6))\n",
    "bar1 = ax.bar(x - bar_width/2, df_grouped['Empresa 01'], bar_width, label='Empresa 01')\n",
    "bar2 = ax.bar(x + bar_width/2, df_grouped['Empresa 02'], bar_width, label='Empresa 02')\n",
    "\n",
    "# Adicionando rótulos e título\n",
    "ax.set_xlabel('Ano')\n",
    "ax.set_ylabel('Valor de Venda (Escala Logarítmica)')\n",
    "ax.set_title('Vendas por Ano e Empresa')\n",
    "ax.set_xticks(x)\n",
    "ax.set_xticklabels(df_grouped.index)\n",
    "ax.legend()\n",
    "\n",
    "# Definindo o eixo y em escala logarítmica\n",
    "ax.set_yscale('log')\n",
    "\n",
    "# Adicionando os valores em reais no topo das barras\n",
    "for i in x:\n",
    "    ax.text(i - bar_width/2, df_grouped['Empresa 01'].iloc[i], \n",
    "            formatar_reais(df_grouped[\"Empresa 01\"].iloc[i]), \n",
    "            ha='center', va='bottom')\n",
    "    \n",
    "    ax.text(i + bar_width/2, df_grouped['Empresa 02'].iloc[i], \n",
    "            formatar_reais(df_grouped[\"Empresa 02\"].iloc[i]), \n",
    "            ha='center', va='bottom')\n",
    "\n",
    "# Mostrando o gráfico\n",
    "plt.tight_layout()\n",
    "plt.show()\n"
   ]
  },
  {
   "cell_type": "code",
   "execution_count": null,
   "metadata": {},
   "outputs": [],
   "source": [
    "df_resultado_geral.to_excel('dados_finais.xlsx')"
   ]
  }
 ],
 "metadata": {
  "kernelspec": {
   "display_name": "digital",
   "language": "python",
   "name": "python3"
  },
  "language_info": {
   "codemirror_mode": {
    "name": "ipython",
    "version": 3
   },
   "file_extension": ".py",
   "mimetype": "text/x-python",
   "name": "python",
   "nbconvert_exporter": "python",
   "pygments_lexer": "ipython3",
   "version": "3.12.3"
  }
 },
 "nbformat": 4,
 "nbformat_minor": 2
}
