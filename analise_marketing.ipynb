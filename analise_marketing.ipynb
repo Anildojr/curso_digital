{
 "cells": [
  {
   "cell_type": "code",
   "execution_count": null,
   "metadata": {},
   "outputs": [],
   "source": [
    "import pandas as pd\n",
    "\n",
    "df = pd.read_csv(\"dados_marketing.csv\")"
   ]
  },
  {
   "cell_type": "code",
   "execution_count": 2,
   "metadata": {},
   "outputs": [],
   "source": [
    "estatisticas = df['Conversoes'].describe()"
   ]
  },
  {
   "cell_type": "code",
   "execution_count": null,
   "metadata": {},
   "outputs": [],
   "source": []
  },
  {
   "cell_type": "code",
   "execution_count": 3,
   "metadata": {},
   "outputs": [],
   "source": [
    "quartil1 = estatisticas['25%'] # Primeiro quartil\n",
    "quartil3 = estatisticas['75%'] # Terceiro quartil"
   ]
  },
  {
   "cell_type": "code",
   "execution_count": 5,
   "metadata": {},
   "outputs": [],
   "source": [
    "df['Desempenho'] = df['Conversoes'].apply(\n",
    "    lambda x: 'Alta' if x > quartil3 else 'Média' if x >= quartil1 else 'Baixa')"
   ]
  },
  {
   "cell_type": "code",
   "execution_count": 7,
   "metadata": {},
   "outputs": [
    {
     "name": "stdout",
     "output_type": "stream",
     "text": [
      "Desempenho\n",
      "Média    94\n",
      "Alta     46\n",
      "Baixa    42\n",
      "Name: count, dtype: int64\n"
     ]
    }
   ],
   "source": [
    "distribuicao = df['Desempenho'].value_counts()\n",
    "print(distribuicao)"
   ]
  },
  {
   "cell_type": "code",
   "execution_count": 8,
   "metadata": {},
   "outputs": [
    {
     "name": "stdout",
     "output_type": "stream",
     "text": [
      "Estatísticas descritivas das conversões:\n",
      "count    182.000000\n",
      "mean      55.967033\n",
      "std       27.621935\n",
      "min        5.000000\n",
      "25%       32.000000\n",
      "50%       59.000000\n",
      "75%       79.750000\n",
      "max       99.000000\n",
      "Name: Conversoes, dtype: float64\n"
     ]
    }
   ],
   "source": [
    "# Exibir as estatísticas e a distribuição\n",
    "print(\"Estatísticas descritivas das conversões:\")\n",
    "print(estatisticas)"
   ]
  },
  {
   "cell_type": "code",
   "execution_count": 9,
   "metadata": {},
   "outputs": [
    {
     "name": "stdout",
     "output_type": "stream",
     "text": [
      "\n",
      "Distribuição das Classificações de Desempenho:\n",
      "Desempenho\n",
      "Média    94\n",
      "Alta     46\n",
      "Baixa    42\n",
      "Name: count, dtype: int64\n"
     ]
    }
   ],
   "source": [
    "print(\"\\nDistribuição das Classificações de Desempenho:\")\n",
    "print(distribuicao)"
   ]
  },
  {
   "cell_type": "code",
   "execution_count": 10,
   "metadata": {},
   "outputs": [
    {
     "name": "stdout",
     "output_type": "stream",
     "text": [
      "\n",
      "DataFrame Atualizado:\n",
      "         Data    Campanha         Canal  Visualizacoes  Cliques  Conversoes  \\\n",
      "0  2024-01-01  Campanha E  Facebook Ads           6471      504          19   \n",
      "1  2024-01-02  Campanha D     Instagram          17841      926          93   \n",
      "2  2024-01-03  Campanha A     Instagram          27566      594          74   \n",
      "3  2024-01-04  Campanha C    Google Ads           5335      295          97   \n",
      "4  2024-01-05  Campanha E    Google Ads           7399      769          85   \n",
      "\n",
      "    Custo          Regiao Desempenho  \n",
      "0  832.21       São Paulo      Baixa  \n",
      "1  486.61  Rio de Janeiro       Alta  \n",
      "2  993.87       São Paulo      Média  \n",
      "3  913.22           Bahia       Alta  \n",
      "4  558.24    Minas Gerais       Alta  \n"
     ]
    }
   ],
   "source": [
    "# Exibir o DataFrame atualizado\n",
    "print(\"\\nDataFrame Atualizado:\")\n",
    "print(df.head())"
   ]
  }
 ],
 "metadata": {
  "kernelspec": {
   "display_name": "digital",
   "language": "python",
   "name": "python3"
  },
  "language_info": {
   "codemirror_mode": {
    "name": "ipython",
    "version": 3
   },
   "file_extension": ".py",
   "mimetype": "text/x-python",
   "name": "python",
   "nbconvert_exporter": "python",
   "pygments_lexer": "ipython3",
   "version": "3.12.3"
  }
 },
 "nbformat": 4,
 "nbformat_minor": 2
}
